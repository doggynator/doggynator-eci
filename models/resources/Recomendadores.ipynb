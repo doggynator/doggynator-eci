{
 "cells": [
  {
   "attachments": {},
   "cell_type": "markdown",
   "metadata": {},
   "source": [
    "Este cuaderno de Jupyter se basa en el análisis de datos disponibles en la carpeta de Datasets y se utiliza para entrenar diversos algoritmos con el fin de comparar sus métricas en conjuntos de datos de prueba.\n",
    "\n",
    "**Resultados**  \n",
    "En el contexto de la problemática abordada en este trabajo de grado, nuestra atención se centra en la métrica de Recall. El algoritmo que mejor se desempeña según esta métrica es Random Forest, con un recall del 76%, además de ofrecer tiempos de respuesta más eficientes en comparación con los otros. Es importante señalar que, dado que este algoritmo se empleará en una aplicación web, la velocidad de respuesta se convierte en un factor crítico. Además, Random Forest demuestra ser el más efectivo en la clasificación de la clase 1.\n",
    "\n",
    "**Conclusiones**  \n",
    "Nuestro análisis revela que, en el caso de una base de datos con un número limitado de observaciones y una ligera desigualdad en la distribución de clases, todos los algoritmos presentan un mejor rendimiento en la clasificación de la clase 0."
   ]
  },
  {
   "cell_type": "code",
   "execution_count": 50,
   "metadata": {},
   "outputs": [],
   "source": [
    "#importamos librerías\n",
    "import pandas as pd\n",
    "import numpy as np\n",
    "from xgboost import XGBClassifier\n",
    "import xgboost as xgb\n",
    "import plotly.graph_objects as go\n",
    "from sklearn.model_selection import RepeatedKFold\n",
    "from sklearn.metrics import roc_auc_score, roc_curve\n",
    "from sklearn.metrics import classification_report\n",
    "import lightgbm as lgb\n",
    "from sklearn.linear_model import SGDClassifier \n",
    "import category_encoders as ce\n",
    "from sklearn.ensemble import RandomForestClassifier"
   ]
  },
  {
   "cell_type": "code",
   "execution_count": 34,
   "metadata": {},
   "outputs": [],
   "source": [
    "def loadDbtoFit():\n",
    "        #leo las bases de datos \n",
    "        usuario = pd.read_csv('../Datasets/usuario.csv', delimiter=\",\", encoding=\"utf-8\")\n",
    "        megusta = pd.read_csv('../Datasets/megusta.csv', delimiter=\",\", encoding=\"utf-8\")\n",
    "        ustage = pd.read_csv('../Datasets/user_stage.csv', delimiter=\",\", encoding=\"utf-8\")\n",
    "        perros = pd.read_csv('../Datasets/RDB.csv', delimiter=\",\", encoding=\"utf-8\")\n",
    "        app_user = pd.read_csv('../Datasets/app_user.csv', delimiter=\",\", encoding=\"utf-8\")\n",
    "        usuario = usuario.drop(['cluster', 'ciclovia', 'locha', 'disciplina', 'silencio', 'amigos', 'pyState', 'fpy'], axis=1)\n",
    "        #usuario, megusta, ustage, app_user = self.loadDataframeFromDB()\n",
    "        result = pd.merge(usuario, ustage, on='userid')\n",
    "        result = pd.merge(result, app_user, on='userid')\n",
    "        mean_rate=[]\n",
    "        for index, row in result.iterrows():\n",
    "            m = megusta[megusta['userid']==row['userid']]['megusta'].mean()\n",
    "            mean_rate.append(m)\n",
    "        result['mean_rate']=mean_rate\n",
    "        result2 = pd.merge(result, megusta, on='userid')\n",
    "        indexUserid = result2[ (result2['userid'] <16)].index\n",
    "        result2.drop(indexUserid , inplace=True)\n",
    "        indexUserid = result2[ (result2['mean_rate'] == 5.000000) | (result2['mean_rate'] == 1.000000) ].index\n",
    "        result2.drop(indexUserid , inplace=True)\n",
    "        result3 = pd.merge(result2,  perros, on='perroid')\n",
    "        result3 = result3.drop([ 'Nombre', 'Raza', 'Fundacion', 'Necesidades', 'cluster' ], axis=1)\n",
    "        result3['viajes'] = result3['viajes'].apply(lambda x: \"y\" if x == 1 else \"n\")\n",
    "        result3['megusta'] = result3['megusta'].apply(lambda x: \"y\" if x == 5 else \"n\")\n",
    "        result3['atencionesespeciales'] = result3['atencionesespeciales'].apply(lambda x: \"y\" if x == 1 else \"n\")\n",
    "        result3['ninos'] = result3['ninos'].apply(lambda x: \"y\" if x == 1 else \"n\")\n",
    "        result3['entrenado'] = result3['entrenado'].apply(lambda x: \"y\" if x == 1 else \"n\")\n",
    "        result3['esterilizado'] = result3['esterilizado'].apply(lambda x: \"y\" if x == 1 else \"n\")\n",
    "        result3['perros'] = result3['perros'].apply(lambda x: \"y\" if x == 1 else \"n\")\n",
    "        result3['actividad_y'] = result3['actividad_y'].apply(lambda x: \"y\" if x == 1 else \"n\")\n",
    "        result3['rangoEdadPerro']=result3['Edad'].apply(lambda x: \"a\" if x<5 else ( \"b\" if (x>=5 and x<10) else \"c\"))\n",
    "        result3['rangoEdadH']=result3['edad'].apply(lambda x: \"a\" if x<20 else ( \"b\" if (x>=20 and x<30) else ( \"c\" if (x>=30 and x<40) else \"d\")))\n",
    "        result3 = result3.drop(['stage', 'mean_rate', 'provider', 'edad', 'Edad', 'rated_date'], axis=1)\n",
    "        encoder = ce.OneHotEncoder(cols=['rangoEdadPerro', 'rangoEdadH', 'viajes', 'tipofamilia', 'actividad_x', 'salir', 'estilo', 'vivienda', 'estrato', 'sueldo', 'trabajo', 'tamano', 'sexo', 'color', 'pelaje', 'agresividad', 'atencionesespeciales', 'ninos', 'entrenado', 'esterilizado', 'perros', 'actividad_y'])\n",
    "        X = encoder.fit_transform(result3.drop(['megusta'], axis=1))\n",
    "        return X, result3"
   ]
  },
  {
   "cell_type": "code",
   "execution_count": 20,
   "metadata": {},
   "outputs": [],
   "source": [
    "# creamos funcion para separar la base de datos 70% entrenamiento 30% prueba en donde ambas bases de datos tengan los mismo usuario\n",
    "import random\n",
    "\n",
    "\n",
    "def split_train_test(x):\n",
    "    test_size=0.3\n",
    "    uids = x['userid'].unique()\n",
    "    updict = dict()\n",
    "    xtest = dict()\n",
    "    xtrain = dict()\n",
    "    for u in uids:\n",
    "        updict[u]=[]\n",
    "        xtest[u]=[]\n",
    "        xtrain[u]=[]\n",
    "    for idx, row in x.iterrows():\n",
    "        updict[row['userid']].append(row['perroid'])\n",
    "    for u in uids:\n",
    "        plist = updict[u]\n",
    "        count = round(len(plist)*test_size)\n",
    "        testchoices = random.sample(plist, k=count)\n",
    "        trainchoices = list(set(plist).difference(testchoices))\n",
    "        xtest[u].append(testchoices)\n",
    "        xtrain[u].append(trainchoices)\n",
    "    xtestdf = pd.DataFrame(columns=x.columns)\n",
    "    xtraindf = pd.DataFrame(columns=x.columns)\n",
    "    for u in uids:\n",
    "        for p in xtest[u]:\n",
    "            xtestdf = pd.concat([xtestdf, x.loc[(x.userid == u) & (x.perroid.isin(p))]])\n",
    "    for u in uids:\n",
    "        for p in xtrain[u]:\n",
    "            xtraindf = pd.concat([xtraindf, x.loc[(x.userid == u) & (x.perroid.isin(p))]])\n",
    "    xtraindf[x.columns] = xtraindf[x.columns].astype(str).astype(\"uint8\")\n",
    "    xtestdf[x.columns] = xtestdf[x.columns].astype(str).astype(\"uint8\")\n",
    "    return xtest, xtrain, xtestdf, xtraindf"
   ]
  },
  {
   "cell_type": "code",
   "execution_count": 38,
   "metadata": {},
   "outputs": [],
   "source": [
    "X, result = loadDbtoFit()\n",
    "y_encoder = ce.OneHotEncoder(cols=['megusta'])\n",
    "resp = y_encoder.fit_transform(result['megusta'])\n",
    "X['megusta_1'] = resp['megusta_1']\n",
    "X['megusta_2'] = resp['megusta_2']\n",
    "dictest, dictrain, dftest, dftrain = split_train_test(X)\n",
    "X_train=dftrain.drop(['megusta_1', 'megusta_2', 'userid', 'perroid'], axis=1)\n",
    "X_test=dftest.drop(['megusta_1', 'megusta_2', 'userid', 'perroid'], axis=1)\n",
    "y_train=dftrain['megusta_1'] #megusta = 1, no me gusta = 0\n",
    "y_test=dftest['megusta_1']"
   ]
  },
  {
   "attachments": {},
   "cell_type": "markdown",
   "metadata": {},
   "source": [
    "# **XGBoost**\n",
    " "
   ]
  },
  {
   "cell_type": "code",
   "execution_count": 39,
   "metadata": {},
   "outputs": [
    {
     "name": "stderr",
     "output_type": "stream",
     "text": [
      "c:\\Users\\maris\\VS Workspace\\doggynator\\models\\doggynatorEnv\\lib\\site-packages\\xgboost\\sklearn.py:1395: UserWarning: `use_label_encoder` is deprecated in 1.7.0.\n",
      "  warnings.warn(\"`use_label_encoder` is deprecated in 1.7.0.\")\n"
     ]
    }
   ],
   "source": [
    "xgmodel = XGBClassifier(use_label_encoder=False, eval_metric='mlogloss')\n",
    "\n",
    "cv    = RepeatedKFold(n_splits=5, n_repeats=100, random_state=101)\n",
    "folds = [(train,test) for train, test in cv.split(X_train, y_train)]\n",
    "metrics = ['auc', 'fpr', 'tpr', 'thresholds']\n",
    "results = {\n",
    "    'train': {m:[] for m in metrics},\n",
    "    'val'  : {m:[] for m in metrics},\n",
    "    'test' : {m:[] for m in metrics}\n",
    "}\n",
    "params = {\n",
    "    'objective'   : 'binary:logistic',\n",
    "    'eval_metric' : 'logloss'\n",
    "}\n",
    "\n",
    "\n",
    "dtest = xgb.DMatrix(X_test, label=y_test)\n",
    "for train, test in folds:\n",
    "    dtrain = xgb.DMatrix(X_train.iloc[train,:], label=y_train.iloc[train])\n",
    "    dval   = xgb.DMatrix(X_train.iloc[test,:], label=y_train.iloc[test])\n",
    "    model  = xgb.train(\n",
    "        dtrain                = dtrain,\n",
    "        params                = params, \n",
    "        evals                 = [(dtrain, 'train'), (dval, 'val')],\n",
    "        num_boost_round       = 1000,\n",
    "        verbose_eval          = False,\n",
    "        early_stopping_rounds = 10,\n",
    "    )\n",
    "    sets = [dtrain, dval, dtest]\n",
    "    for i,ds in enumerate(results.keys()):\n",
    "        y_preds              = model.predict(sets[i])\n",
    "        labels               = sets[i].get_label()\n",
    "        fpr, tpr, thresholds = roc_curve(labels, y_preds)\n",
    "        results[ds]['fpr'].append(fpr)\n",
    "        results[ds]['tpr'].append(tpr)\n",
    "        results[ds]['thresholds'].append(thresholds)\n",
    "        results[ds]['auc'].append(roc_auc_score(labels, y_preds))"
   ]
  },
  {
   "cell_type": "code",
   "execution_count": 40,
   "metadata": {},
   "outputs": [
    {
     "data": {
      "application/vnd.plotly.v1+json": {
       "config": {
        "plotlyServerURL": "https://plot.ly"
       },
       "data": [
        {
         "hoverinfo": "skip",
         "line": {
          "color": "rgba(52, 152, 219, 0.5)",
          "width": 1
         },
         "name": "upper",
         "showlegend": false,
         "type": "scatter",
         "x": [
          0,
          0.010101010101010102,
          0.020202020202020204,
          0.030303030303030304,
          0.04040404040404041,
          0.05050505050505051,
          0.06060606060606061,
          0.07070707070707072,
          0.08080808080808081,
          0.09090909090909091,
          0.10101010101010102,
          0.11111111111111112,
          0.12121212121212122,
          0.13131313131313133,
          0.14141414141414144,
          0.15151515151515152,
          0.16161616161616163,
          0.17171717171717174,
          0.18181818181818182,
          0.19191919191919193,
          0.20202020202020204,
          0.21212121212121213,
          0.22222222222222224,
          0.23232323232323235,
          0.24242424242424243,
          0.25252525252525254,
          0.26262626262626265,
          0.27272727272727276,
          0.2828282828282829,
          0.29292929292929293,
          0.30303030303030304,
          0.31313131313131315,
          0.32323232323232326,
          0.33333333333333337,
          0.3434343434343435,
          0.3535353535353536,
          0.36363636363636365,
          0.37373737373737376,
          0.38383838383838387,
          0.393939393939394,
          0.4040404040404041,
          0.4141414141414142,
          0.42424242424242425,
          0.43434343434343436,
          0.4444444444444445,
          0.4545454545454546,
          0.4646464646464647,
          0.4747474747474748,
          0.48484848484848486,
          0.494949494949495,
          0.5050505050505051,
          0.5151515151515152,
          0.5252525252525253,
          0.5353535353535354,
          0.5454545454545455,
          0.5555555555555556,
          0.5656565656565657,
          0.5757575757575758,
          0.5858585858585859,
          0.595959595959596,
          0.6060606060606061,
          0.6161616161616162,
          0.6262626262626263,
          0.6363636363636365,
          0.6464646464646465,
          0.6565656565656566,
          0.6666666666666667,
          0.6767676767676768,
          0.686868686868687,
          0.696969696969697,
          0.7070707070707072,
          0.7171717171717172,
          0.7272727272727273,
          0.7373737373737375,
          0.7474747474747475,
          0.7575757575757577,
          0.7676767676767677,
          0.7777777777777778,
          0.787878787878788,
          0.797979797979798,
          0.8080808080808082,
          0.8181818181818182,
          0.8282828282828284,
          0.8383838383838385,
          0.8484848484848485,
          0.8585858585858587,
          0.8686868686868687,
          0.8787878787878789,
          0.888888888888889,
          0.8989898989898991,
          0.9090909090909092,
          0.9191919191919192,
          0.9292929292929294,
          0.9393939393939394,
          0.9494949494949496,
          0.9595959595959597,
          0.9696969696969697,
          0.9797979797979799,
          0.98989898989899,
          1
         ],
         "y": [
          0,
          0.24224921535400026,
          0.3139486134251298,
          0.37472056000636794,
          0.42168022950326034,
          0.45948750517052517,
          0.4934875752665689,
          0.5292366363902987,
          0.5532162244599801,
          0.5724460470098306,
          0.5973158876332377,
          0.6238412476364557,
          0.6437693296311738,
          0.6594504748289448,
          0.6750810590406504,
          0.6905338416111695,
          0.7059039661253566,
          0.7144089035922133,
          0.7284168756258497,
          0.7432872060148169,
          0.7558994095987193,
          0.7627116659655934,
          0.7727857256922199,
          0.7819863837533482,
          0.7899457055538464,
          0.7963077474639574,
          0.8044595122049221,
          0.8107802236004832,
          0.8162710813771623,
          0.8224868313556205,
          0.8293470763409886,
          0.8352647413106173,
          0.8403897311669462,
          0.8479601811593908,
          0.8531348297170503,
          0.8566306024116891,
          0.8622314920087455,
          0.8678602846981739,
          0.8722576423882703,
          0.8762465107174048,
          0.8811042183665003,
          0.8861497579652964,
          0.8911287496604231,
          0.8942194281699187,
          0.9005409664057374,
          0.9056671375822399,
          0.9114997845123542,
          0.913888093657259,
          0.9195164831793945,
          0.9210335577958594,
          0.926449174722964,
          0.9280783583477124,
          0.9316131960858604,
          0.9353032518163089,
          0.938873550984151,
          0.9418790194590718,
          0.9454700988850137,
          0.947030776956545,
          0.9486659354197134,
          0.952035520795705,
          0.9547345541878915,
          0.9589946345103996,
          0.9636666296232932,
          0.9661052503028427,
          0.96864848867143,
          0.9713909103496944,
          0.9732056955053174,
          0.9734979504314396,
          0.974630747463642,
          0.9767524709123594,
          0.9789018087573484,
          0.9807949314708578,
          0.9819603528444812,
          0.9850081376543103,
          0.9864736169281016,
          0.988780291613631,
          0.9906328429554565,
          0.9929991490065656,
          0.9946950785641823,
          0.9956977298096108,
          0.9976595973501133,
          0.99804286859834,
          0.999568013106122,
          1,
          1,
          1,
          1,
          1,
          1,
          1,
          1,
          1,
          1,
          1,
          1,
          1,
          1,
          1,
          1,
          1
         ]
        },
        {
         "fill": "tonexty",
         "fillcolor": "rgba(52, 152, 219, 0.2)",
         "hoverinfo": "skip",
         "line": {
          "color": "rgba(52, 152, 219, 0.5)",
          "width": 1
         },
         "name": "lower",
         "showlegend": false,
         "type": "scatter",
         "x": [
          0,
          0.010101010101010102,
          0.020202020202020204,
          0.030303030303030304,
          0.04040404040404041,
          0.05050505050505051,
          0.06060606060606061,
          0.07070707070707072,
          0.08080808080808081,
          0.09090909090909091,
          0.10101010101010102,
          0.11111111111111112,
          0.12121212121212122,
          0.13131313131313133,
          0.14141414141414144,
          0.15151515151515152,
          0.16161616161616163,
          0.17171717171717174,
          0.18181818181818182,
          0.19191919191919193,
          0.20202020202020204,
          0.21212121212121213,
          0.22222222222222224,
          0.23232323232323235,
          0.24242424242424243,
          0.25252525252525254,
          0.26262626262626265,
          0.27272727272727276,
          0.2828282828282829,
          0.29292929292929293,
          0.30303030303030304,
          0.31313131313131315,
          0.32323232323232326,
          0.33333333333333337,
          0.3434343434343435,
          0.3535353535353536,
          0.36363636363636365,
          0.37373737373737376,
          0.38383838383838387,
          0.393939393939394,
          0.4040404040404041,
          0.4141414141414142,
          0.42424242424242425,
          0.43434343434343436,
          0.4444444444444445,
          0.4545454545454546,
          0.4646464646464647,
          0.4747474747474748,
          0.48484848484848486,
          0.494949494949495,
          0.5050505050505051,
          0.5151515151515152,
          0.5252525252525253,
          0.5353535353535354,
          0.5454545454545455,
          0.5555555555555556,
          0.5656565656565657,
          0.5757575757575758,
          0.5858585858585859,
          0.595959595959596,
          0.6060606060606061,
          0.6161616161616162,
          0.6262626262626263,
          0.6363636363636365,
          0.6464646464646465,
          0.6565656565656566,
          0.6666666666666667,
          0.6767676767676768,
          0.686868686868687,
          0.696969696969697,
          0.7070707070707072,
          0.7171717171717172,
          0.7272727272727273,
          0.7373737373737375,
          0.7474747474747475,
          0.7575757575757577,
          0.7676767676767677,
          0.7777777777777778,
          0.787878787878788,
          0.797979797979798,
          0.8080808080808082,
          0.8181818181818182,
          0.8282828282828284,
          0.8383838383838385,
          0.8484848484848485,
          0.8585858585858587,
          0.8686868686868687,
          0.8787878787878789,
          0.888888888888889,
          0.8989898989898991,
          0.9090909090909092,
          0.9191919191919192,
          0.9292929292929294,
          0.9393939393939394,
          0.9494949494949496,
          0.9595959595959597,
          0.9696969696969697,
          0.9797979797979799,
          0.98989898989899,
          1
         ],
         "y": [
          0,
          0.045939993314199096,
          0.12188905416046755,
          0.179592529246192,
          0.2266084611254219,
          0.2681853326352087,
          0.30917589467177814,
          0.3384170319114866,
          0.37474879598872424,
          0.4065872322425754,
          0.43592356441563795,
          0.45484121306317604,
          0.4745984051773785,
          0.49522949716333586,
          0.5145157075051101,
          0.5298590444484179,
          0.5478375525851371,
          0.5676258835857956,
          0.5780653977467022,
          0.5885928350453277,
          0.6065709373425601,
          0.6210923996931851,
          0.62997053432694,
          0.6394021392344392,
          0.6486081001854154,
          0.6637826935998342,
          0.6714245401052497,
          0.6821212042464065,
          0.6912516546220953,
          0.7005752154037893,
          0.7086909814323431,
          0.7182324415058254,
          0.7287175735332225,
          0.7349387288775445,
          0.7432986210416715,
          0.7513650197330656,
          0.7575126572107271,
          0.7652842997172052,
          0.7732473132509686,
          0.7777249110110266,
          0.7831438798053196,
          0.7876306374924309,
          0.7929913378019106,
          0.7997344041248429,
          0.8041200763612172,
          0.8091660588366297,
          0.8133682603670584,
          0.8195533680099693,
          0.8219704614114196,
          0.8285351737700547,
          0.834481690365688,
          0.8399306020676849,
          0.8442782469948064,
          0.8482031182414174,
          0.8517216699870442,
          0.8566041043599775,
          0.8612417118488523,
          0.8677570089476946,
          0.8730241993933562,
          0.8758149184874264,
          0.8806154131443631,
          0.8845319847043122,
          0.8885421972821208,
          0.8939747680352861,
          0.8982977850124892,
          0.9016398347592044,
          0.9061230179539141,
          0.9133372158197739,
          0.917545937125658,
          0.921963133152998,
          0.9260201330616598,
          0.9290275371240589,
          0.9326565322091119,
          0.935206941266258,
          0.9369771014773411,
          0.9397009370324403,
          0.9431792032075419,
          0.9449220543945428,
          0.9471420148226969,
          0.9502855833339221,
          0.9521195188116752,
          0.9568866002491172,
          0.9583401965824807,
          0.959258615630546,
          0.9623946802585145,
          0.9656077082166054,
          0.9690312161643143,
          0.9699583095848912,
          0.9720134283374778,
          0.9731037261427161,
          0.9762842129039716,
          0.9795138306707447,
          0.9823712496019515,
          0.9858075257271409,
          0.9885408573522715,
          0.9912598939707001,
          0.9935669844582868,
          0.9946245527412245,
          0.9954337402626452,
          1
         ]
        },
        {
         "hoverinfo": "skip",
         "line": {
          "color": "rgba(41, 128, 185, 1.0)",
          "width": 2
         },
         "name": "AUC: 0.809",
         "showlegend": true,
         "type": "scatter",
         "x": [
          0,
          0.010101010101010102,
          0.020202020202020204,
          0.030303030303030304,
          0.04040404040404041,
          0.05050505050505051,
          0.06060606060606061,
          0.07070707070707072,
          0.08080808080808081,
          0.09090909090909091,
          0.10101010101010102,
          0.11111111111111112,
          0.12121212121212122,
          0.13131313131313133,
          0.14141414141414144,
          0.15151515151515152,
          0.16161616161616163,
          0.17171717171717174,
          0.18181818181818182,
          0.19191919191919193,
          0.20202020202020204,
          0.21212121212121213,
          0.22222222222222224,
          0.23232323232323235,
          0.24242424242424243,
          0.25252525252525254,
          0.26262626262626265,
          0.27272727272727276,
          0.2828282828282829,
          0.29292929292929293,
          0.30303030303030304,
          0.31313131313131315,
          0.32323232323232326,
          0.33333333333333337,
          0.3434343434343435,
          0.3535353535353536,
          0.36363636363636365,
          0.37373737373737376,
          0.38383838383838387,
          0.393939393939394,
          0.4040404040404041,
          0.4141414141414142,
          0.42424242424242425,
          0.43434343434343436,
          0.4444444444444445,
          0.4545454545454546,
          0.4646464646464647,
          0.4747474747474748,
          0.48484848484848486,
          0.494949494949495,
          0.5050505050505051,
          0.5151515151515152,
          0.5252525252525253,
          0.5353535353535354,
          0.5454545454545455,
          0.5555555555555556,
          0.5656565656565657,
          0.5757575757575758,
          0.5858585858585859,
          0.595959595959596,
          0.6060606060606061,
          0.6161616161616162,
          0.6262626262626263,
          0.6363636363636365,
          0.6464646464646465,
          0.6565656565656566,
          0.6666666666666667,
          0.6767676767676768,
          0.686868686868687,
          0.696969696969697,
          0.7070707070707072,
          0.7171717171717172,
          0.7272727272727273,
          0.7373737373737375,
          0.7474747474747475,
          0.7575757575757577,
          0.7676767676767677,
          0.7777777777777778,
          0.787878787878788,
          0.797979797979798,
          0.8080808080808082,
          0.8181818181818182,
          0.8282828282828284,
          0.8383838383838385,
          0.8484848484848485,
          0.8585858585858587,
          0.8686868686868687,
          0.8787878787878789,
          0.888888888888889,
          0.8989898989898991,
          0.9090909090909092,
          0.9191919191919192,
          0.9292929292929294,
          0.9393939393939394,
          0.9494949494949496,
          0.9595959595959597,
          0.9696969696969697,
          0.9797979797979799,
          0.98989898989899,
          1
         ],
         "y": [
          0,
          0.14409460433409968,
          0.2179188337927987,
          0.27715654462628,
          0.3241443453143411,
          0.36383641890286694,
          0.4013317349691735,
          0.4338268341508926,
          0.46398251022435216,
          0.489516639626203,
          0.5166197260244378,
          0.5393412303498158,
          0.5591838674042762,
          0.5773399859961403,
          0.5947983832728803,
          0.6101964430297937,
          0.6268707593552468,
          0.6410173935890044,
          0.6532411366862759,
          0.6659400205300723,
          0.6812351734706397,
          0.6919020328293892,
          0.7013781300095799,
          0.7106942614938937,
          0.7192769028696309,
          0.7300452205318958,
          0.7379420261550859,
          0.7464507139234449,
          0.7537613679996288,
          0.7615310233797049,
          0.7690190288866658,
          0.7767485914082214,
          0.7845536523500843,
          0.7914494550184676,
          0.798216725379361,
          0.8039978110723773,
          0.8098720746097363,
          0.8165722922076896,
          0.8227524778196195,
          0.8269857108642157,
          0.83212404908591,
          0.8368901977288636,
          0.8420600437311668,
          0.8469769161473808,
          0.8523305213834773,
          0.8574165982094348,
          0.8624340224397063,
          0.8667207308336141,
          0.870743472295407,
          0.874784365782957,
          0.880465432544326,
          0.8840044802076986,
          0.8879457215403334,
          0.8917531850288631,
          0.8952976104855976,
          0.8992415619095246,
          0.903355905366933,
          0.9073938929521198,
          0.9108450674065348,
          0.9139252196415657,
          0.9176749836661273,
          0.9217633096073559,
          0.926104413452707,
          0.9300400091690644,
          0.9334731368419596,
          0.9365153725544494,
          0.9396643567296158,
          0.9434175831256068,
          0.94608834229465,
          0.9493578020326787,
          0.9524609709095041,
          0.9549112342974584,
          0.9573084425267966,
          0.9601075394602842,
          0.9617253592027214,
          0.9642406143230356,
          0.9669060230814992,
          0.9689606017005542,
          0.9709185466934396,
          0.9729916565717665,
          0.9748895580808943,
          0.9774647344237286,
          0.9789541048443013,
          0.9801285704183849,
          0.9822102366673192,
          0.9842420351643639,
          0.9861064209639863,
          0.9874376923122338,
          0.9888775448706117,
          0.9899054625534592,
          0.9917829045628346,
          0.9928730312092374,
          0.9939842097650805,
          0.9951111462060723,
          0.9963666011859235,
          0.9978199324775658,
          0.9987151007576319,
          0.9990555352699073,
          0.9993341512048167,
          1
         ]
        }
       ],
       "layout": {
        "height": 800,
        "legend": {
         "x": 0.95,
         "xanchor": "right",
         "y": 0.01,
         "yanchor": "bottom"
        },
        "shapes": [
         {
          "line": {
           "dash": "dash"
          },
          "type": "line",
          "x0": 0,
          "x1": 1,
          "y0": 0,
          "y1": 1
         }
        ],
        "template": {
         "data": {
          "bar": [
           {
            "error_x": {
             "color": "#2a3f5f"
            },
            "error_y": {
             "color": "#2a3f5f"
            },
            "marker": {
             "line": {
              "color": "white",
              "width": 0.5
             },
             "pattern": {
              "fillmode": "overlay",
              "size": 10,
              "solidity": 0.2
             }
            },
            "type": "bar"
           }
          ],
          "barpolar": [
           {
            "marker": {
             "line": {
              "color": "white",
              "width": 0.5
             },
             "pattern": {
              "fillmode": "overlay",
              "size": 10,
              "solidity": 0.2
             }
            },
            "type": "barpolar"
           }
          ],
          "carpet": [
           {
            "aaxis": {
             "endlinecolor": "#2a3f5f",
             "gridcolor": "#C8D4E3",
             "linecolor": "#C8D4E3",
             "minorgridcolor": "#C8D4E3",
             "startlinecolor": "#2a3f5f"
            },
            "baxis": {
             "endlinecolor": "#2a3f5f",
             "gridcolor": "#C8D4E3",
             "linecolor": "#C8D4E3",
             "minorgridcolor": "#C8D4E3",
             "startlinecolor": "#2a3f5f"
            },
            "type": "carpet"
           }
          ],
          "choropleth": [
           {
            "colorbar": {
             "outlinewidth": 0,
             "ticks": ""
            },
            "type": "choropleth"
           }
          ],
          "contour": [
           {
            "colorbar": {
             "outlinewidth": 0,
             "ticks": ""
            },
            "colorscale": [
             [
              0,
              "#0d0887"
             ],
             [
              0.1111111111111111,
              "#46039f"
             ],
             [
              0.2222222222222222,
              "#7201a8"
             ],
             [
              0.3333333333333333,
              "#9c179e"
             ],
             [
              0.4444444444444444,
              "#bd3786"
             ],
             [
              0.5555555555555556,
              "#d8576b"
             ],
             [
              0.6666666666666666,
              "#ed7953"
             ],
             [
              0.7777777777777778,
              "#fb9f3a"
             ],
             [
              0.8888888888888888,
              "#fdca26"
             ],
             [
              1,
              "#f0f921"
             ]
            ],
            "type": "contour"
           }
          ],
          "contourcarpet": [
           {
            "colorbar": {
             "outlinewidth": 0,
             "ticks": ""
            },
            "type": "contourcarpet"
           }
          ],
          "heatmap": [
           {
            "colorbar": {
             "outlinewidth": 0,
             "ticks": ""
            },
            "colorscale": [
             [
              0,
              "#0d0887"
             ],
             [
              0.1111111111111111,
              "#46039f"
             ],
             [
              0.2222222222222222,
              "#7201a8"
             ],
             [
              0.3333333333333333,
              "#9c179e"
             ],
             [
              0.4444444444444444,
              "#bd3786"
             ],
             [
              0.5555555555555556,
              "#d8576b"
             ],
             [
              0.6666666666666666,
              "#ed7953"
             ],
             [
              0.7777777777777778,
              "#fb9f3a"
             ],
             [
              0.8888888888888888,
              "#fdca26"
             ],
             [
              1,
              "#f0f921"
             ]
            ],
            "type": "heatmap"
           }
          ],
          "heatmapgl": [
           {
            "colorbar": {
             "outlinewidth": 0,
             "ticks": ""
            },
            "colorscale": [
             [
              0,
              "#0d0887"
             ],
             [
              0.1111111111111111,
              "#46039f"
             ],
             [
              0.2222222222222222,
              "#7201a8"
             ],
             [
              0.3333333333333333,
              "#9c179e"
             ],
             [
              0.4444444444444444,
              "#bd3786"
             ],
             [
              0.5555555555555556,
              "#d8576b"
             ],
             [
              0.6666666666666666,
              "#ed7953"
             ],
             [
              0.7777777777777778,
              "#fb9f3a"
             ],
             [
              0.8888888888888888,
              "#fdca26"
             ],
             [
              1,
              "#f0f921"
             ]
            ],
            "type": "heatmapgl"
           }
          ],
          "histogram": [
           {
            "marker": {
             "pattern": {
              "fillmode": "overlay",
              "size": 10,
              "solidity": 0.2
             }
            },
            "type": "histogram"
           }
          ],
          "histogram2d": [
           {
            "colorbar": {
             "outlinewidth": 0,
             "ticks": ""
            },
            "colorscale": [
             [
              0,
              "#0d0887"
             ],
             [
              0.1111111111111111,
              "#46039f"
             ],
             [
              0.2222222222222222,
              "#7201a8"
             ],
             [
              0.3333333333333333,
              "#9c179e"
             ],
             [
              0.4444444444444444,
              "#bd3786"
             ],
             [
              0.5555555555555556,
              "#d8576b"
             ],
             [
              0.6666666666666666,
              "#ed7953"
             ],
             [
              0.7777777777777778,
              "#fb9f3a"
             ],
             [
              0.8888888888888888,
              "#fdca26"
             ],
             [
              1,
              "#f0f921"
             ]
            ],
            "type": "histogram2d"
           }
          ],
          "histogram2dcontour": [
           {
            "colorbar": {
             "outlinewidth": 0,
             "ticks": ""
            },
            "colorscale": [
             [
              0,
              "#0d0887"
             ],
             [
              0.1111111111111111,
              "#46039f"
             ],
             [
              0.2222222222222222,
              "#7201a8"
             ],
             [
              0.3333333333333333,
              "#9c179e"
             ],
             [
              0.4444444444444444,
              "#bd3786"
             ],
             [
              0.5555555555555556,
              "#d8576b"
             ],
             [
              0.6666666666666666,
              "#ed7953"
             ],
             [
              0.7777777777777778,
              "#fb9f3a"
             ],
             [
              0.8888888888888888,
              "#fdca26"
             ],
             [
              1,
              "#f0f921"
             ]
            ],
            "type": "histogram2dcontour"
           }
          ],
          "mesh3d": [
           {
            "colorbar": {
             "outlinewidth": 0,
             "ticks": ""
            },
            "type": "mesh3d"
           }
          ],
          "parcoords": [
           {
            "line": {
             "colorbar": {
              "outlinewidth": 0,
              "ticks": ""
             }
            },
            "type": "parcoords"
           }
          ],
          "pie": [
           {
            "automargin": true,
            "type": "pie"
           }
          ],
          "scatter": [
           {
            "fillpattern": {
             "fillmode": "overlay",
             "size": 10,
             "solidity": 0.2
            },
            "type": "scatter"
           }
          ],
          "scatter3d": [
           {
            "line": {
             "colorbar": {
              "outlinewidth": 0,
              "ticks": ""
             }
            },
            "marker": {
             "colorbar": {
              "outlinewidth": 0,
              "ticks": ""
             }
            },
            "type": "scatter3d"
           }
          ],
          "scattercarpet": [
           {
            "marker": {
             "colorbar": {
              "outlinewidth": 0,
              "ticks": ""
             }
            },
            "type": "scattercarpet"
           }
          ],
          "scattergeo": [
           {
            "marker": {
             "colorbar": {
              "outlinewidth": 0,
              "ticks": ""
             }
            },
            "type": "scattergeo"
           }
          ],
          "scattergl": [
           {
            "marker": {
             "colorbar": {
              "outlinewidth": 0,
              "ticks": ""
             }
            },
            "type": "scattergl"
           }
          ],
          "scattermapbox": [
           {
            "marker": {
             "colorbar": {
              "outlinewidth": 0,
              "ticks": ""
             }
            },
            "type": "scattermapbox"
           }
          ],
          "scatterpolar": [
           {
            "marker": {
             "colorbar": {
              "outlinewidth": 0,
              "ticks": ""
             }
            },
            "type": "scatterpolar"
           }
          ],
          "scatterpolargl": [
           {
            "marker": {
             "colorbar": {
              "outlinewidth": 0,
              "ticks": ""
             }
            },
            "type": "scatterpolargl"
           }
          ],
          "scatterternary": [
           {
            "marker": {
             "colorbar": {
              "outlinewidth": 0,
              "ticks": ""
             }
            },
            "type": "scatterternary"
           }
          ],
          "surface": [
           {
            "colorbar": {
             "outlinewidth": 0,
             "ticks": ""
            },
            "colorscale": [
             [
              0,
              "#0d0887"
             ],
             [
              0.1111111111111111,
              "#46039f"
             ],
             [
              0.2222222222222222,
              "#7201a8"
             ],
             [
              0.3333333333333333,
              "#9c179e"
             ],
             [
              0.4444444444444444,
              "#bd3786"
             ],
             [
              0.5555555555555556,
              "#d8576b"
             ],
             [
              0.6666666666666666,
              "#ed7953"
             ],
             [
              0.7777777777777778,
              "#fb9f3a"
             ],
             [
              0.8888888888888888,
              "#fdca26"
             ],
             [
              1,
              "#f0f921"
             ]
            ],
            "type": "surface"
           }
          ],
          "table": [
           {
            "cells": {
             "fill": {
              "color": "#EBF0F8"
             },
             "line": {
              "color": "white"
             }
            },
            "header": {
             "fill": {
              "color": "#C8D4E3"
             },
             "line": {
              "color": "white"
             }
            },
            "type": "table"
           }
          ]
         },
         "layout": {
          "annotationdefaults": {
           "arrowcolor": "#2a3f5f",
           "arrowhead": 0,
           "arrowwidth": 1
          },
          "autotypenumbers": "strict",
          "coloraxis": {
           "colorbar": {
            "outlinewidth": 0,
            "ticks": ""
           }
          },
          "colorscale": {
           "diverging": [
            [
             0,
             "#8e0152"
            ],
            [
             0.1,
             "#c51b7d"
            ],
            [
             0.2,
             "#de77ae"
            ],
            [
             0.3,
             "#f1b6da"
            ],
            [
             0.4,
             "#fde0ef"
            ],
            [
             0.5,
             "#f7f7f7"
            ],
            [
             0.6,
             "#e6f5d0"
            ],
            [
             0.7,
             "#b8e186"
            ],
            [
             0.8,
             "#7fbc41"
            ],
            [
             0.9,
             "#4d9221"
            ],
            [
             1,
             "#276419"
            ]
           ],
           "sequential": [
            [
             0,
             "#0d0887"
            ],
            [
             0.1111111111111111,
             "#46039f"
            ],
            [
             0.2222222222222222,
             "#7201a8"
            ],
            [
             0.3333333333333333,
             "#9c179e"
            ],
            [
             0.4444444444444444,
             "#bd3786"
            ],
            [
             0.5555555555555556,
             "#d8576b"
            ],
            [
             0.6666666666666666,
             "#ed7953"
            ],
            [
             0.7777777777777778,
             "#fb9f3a"
            ],
            [
             0.8888888888888888,
             "#fdca26"
            ],
            [
             1,
             "#f0f921"
            ]
           ],
           "sequentialminus": [
            [
             0,
             "#0d0887"
            ],
            [
             0.1111111111111111,
             "#46039f"
            ],
            [
             0.2222222222222222,
             "#7201a8"
            ],
            [
             0.3333333333333333,
             "#9c179e"
            ],
            [
             0.4444444444444444,
             "#bd3786"
            ],
            [
             0.5555555555555556,
             "#d8576b"
            ],
            [
             0.6666666666666666,
             "#ed7953"
            ],
            [
             0.7777777777777778,
             "#fb9f3a"
            ],
            [
             0.8888888888888888,
             "#fdca26"
            ],
            [
             1,
             "#f0f921"
            ]
           ]
          },
          "colorway": [
           "#636efa",
           "#EF553B",
           "#00cc96",
           "#ab63fa",
           "#FFA15A",
           "#19d3f3",
           "#FF6692",
           "#B6E880",
           "#FF97FF",
           "#FECB52"
          ],
          "font": {
           "color": "#2a3f5f"
          },
          "geo": {
           "bgcolor": "white",
           "lakecolor": "white",
           "landcolor": "white",
           "showlakes": true,
           "showland": true,
           "subunitcolor": "#C8D4E3"
          },
          "hoverlabel": {
           "align": "left"
          },
          "hovermode": "closest",
          "mapbox": {
           "style": "light"
          },
          "paper_bgcolor": "white",
          "plot_bgcolor": "white",
          "polar": {
           "angularaxis": {
            "gridcolor": "#EBF0F8",
            "linecolor": "#EBF0F8",
            "ticks": ""
           },
           "bgcolor": "white",
           "radialaxis": {
            "gridcolor": "#EBF0F8",
            "linecolor": "#EBF0F8",
            "ticks": ""
           }
          },
          "scene": {
           "xaxis": {
            "backgroundcolor": "white",
            "gridcolor": "#DFE8F3",
            "gridwidth": 2,
            "linecolor": "#EBF0F8",
            "showbackground": true,
            "ticks": "",
            "zerolinecolor": "#EBF0F8"
           },
           "yaxis": {
            "backgroundcolor": "white",
            "gridcolor": "#DFE8F3",
            "gridwidth": 2,
            "linecolor": "#EBF0F8",
            "showbackground": true,
            "ticks": "",
            "zerolinecolor": "#EBF0F8"
           },
           "zaxis": {
            "backgroundcolor": "white",
            "gridcolor": "#DFE8F3",
            "gridwidth": 2,
            "linecolor": "#EBF0F8",
            "showbackground": true,
            "ticks": "",
            "zerolinecolor": "#EBF0F8"
           }
          },
          "shapedefaults": {
           "line": {
            "color": "#2a3f5f"
           }
          },
          "ternary": {
           "aaxis": {
            "gridcolor": "#DFE8F3",
            "linecolor": "#A2B1C6",
            "ticks": ""
           },
           "baxis": {
            "gridcolor": "#DFE8F3",
            "linecolor": "#A2B1C6",
            "ticks": ""
           },
           "bgcolor": "white",
           "caxis": {
            "gridcolor": "#DFE8F3",
            "linecolor": "#A2B1C6",
            "ticks": ""
           }
          },
          "title": {
           "x": 0.05
          },
          "xaxis": {
           "automargin": true,
           "gridcolor": "#EBF0F8",
           "linecolor": "#EBF0F8",
           "ticks": "",
           "title": {
            "standoff": 15
           },
           "zerolinecolor": "#EBF0F8",
           "zerolinewidth": 2
          },
          "yaxis": {
           "automargin": true,
           "gridcolor": "#EBF0F8",
           "linecolor": "#EBF0F8",
           "ticks": "",
           "title": {
            "standoff": 15
           },
           "zerolinecolor": "#EBF0F8",
           "zerolinewidth": 2
          }
         }
        },
        "title": {
         "x": 0.5
        },
        "width": 800,
        "xaxis": {
         "constrain": "domain",
         "gridcolor": "rgba(189, 195, 199, 0.5)",
         "linecolor": "black",
         "range": [
          0,
          1
         ],
         "title": {
          "text": "1 - Specificity"
         }
        },
        "yaxis": {
         "gridcolor": "rgba(189, 195, 199, 0.5)",
         "linecolor": "black",
         "range": [
          0,
          1
         ],
         "scaleanchor": "x",
         "scaleratio": 1,
         "title": {
          "text": "Sensitivity"
         }
        }
       }
      }
     },
     "metadata": {},
     "output_type": "display_data"
    }
   ],
   "source": [
    "kind = 'val'\n",
    "c_fill      = 'rgba(52, 152, 219, 0.2)'\n",
    "c_line      = 'rgba(52, 152, 219, 0.5)'\n",
    "c_line_main = 'rgba(41, 128, 185, 1.0)'\n",
    "c_grid      = 'rgba(189, 195, 199, 0.5)'\n",
    "c_annot     = 'rgba(149, 165, 166, 0.5)'\n",
    "c_highlight = 'rgba(192, 57, 43, 1.0)'\n",
    "fpr_mean    = np.linspace(0, 1, 100)\n",
    "interp_tprs = []\n",
    "for i in range(100):\n",
    "    fpr           = results[kind]['fpr'][i]\n",
    "    tpr           = results[kind]['tpr'][i]\n",
    "    interp_tpr    = np.interp(fpr_mean, fpr, tpr)\n",
    "    interp_tpr[0] = 0.0\n",
    "    interp_tprs.append(interp_tpr)\n",
    "tpr_mean     = np.mean(interp_tprs, axis=0)\n",
    "tpr_mean[-1] = 1.0\n",
    "tpr_std      = 2*np.std(interp_tprs, axis=0)\n",
    "tpr_upper    = np.clip(tpr_mean+tpr_std, 0, 1)\n",
    "tpr_lower    = tpr_mean-tpr_std\n",
    "auc          = np.mean(results[kind]['auc'])\n",
    "fig = go.Figure([\n",
    "    go.Scatter(\n",
    "        x          = fpr_mean,\n",
    "        y          = tpr_upper,\n",
    "        line       = dict(color=c_line, width=1),\n",
    "        hoverinfo  = \"skip\",\n",
    "        showlegend = False,\n",
    "        name       = 'upper'),\n",
    "    go.Scatter(\n",
    "        x          = fpr_mean,\n",
    "        y          = tpr_lower,\n",
    "        fill       = 'tonexty',\n",
    "        fillcolor  = c_fill,\n",
    "        line       = dict(color=c_line, width=1),\n",
    "        hoverinfo  = \"skip\",\n",
    "        showlegend = False,\n",
    "        name       = 'lower'),\n",
    "    go.Scatter(\n",
    "        x          = fpr_mean,\n",
    "        y          = tpr_mean,\n",
    "        line       = dict(color=c_line_main, width=2),\n",
    "        hoverinfo  = \"skip\",\n",
    "        showlegend = True,\n",
    "        name       = f'AUC: {auc:.3f}')\n",
    "])\n",
    "fig.add_shape(\n",
    "    type ='line', \n",
    "    line =dict(dash='dash'),\n",
    "    x0=0, x1=1, y0=0, y1=1\n",
    ")\n",
    "fig.update_layout(\n",
    "    template    = 'plotly_white', \n",
    "    title_x     = 0.5,\n",
    "    xaxis_title = \"1 - Specificity\",\n",
    "    yaxis_title = \"Sensitivity\",\n",
    "    width       = 800,\n",
    "    height      = 800,\n",
    "    legend      = dict(\n",
    "        yanchor=\"bottom\", \n",
    "        xanchor=\"right\", \n",
    "        x=0.95,\n",
    "        y=0.01,\n",
    "    )\n",
    ")\n",
    "fig.update_yaxes(\n",
    "    range       = [0, 1],\n",
    "    gridcolor   = c_grid,\n",
    "    scaleanchor = \"x\", \n",
    "    scaleratio  = 1,\n",
    "    linecolor   = 'black')\n",
    "fig.update_xaxes(\n",
    "    range       = [0, 1],\n",
    "    gridcolor   = c_grid,\n",
    "    constrain   = 'domain',\n",
    "    linecolor   = 'black')"
   ]
  },
  {
   "cell_type": "code",
   "execution_count": 42,
   "metadata": {},
   "outputs": [
    {
     "name": "stdout",
     "output_type": "stream",
     "text": [
      "              precision    recall  f1-score   support\n",
      "\n",
      "           0       0.78      0.86      0.82       670\n",
      "           1       0.71      0.58      0.64       391\n",
      "\n",
      "    accuracy                           0.76      1061\n",
      "   macro avg       0.74      0.72      0.73      1061\n",
      "weighted avg       0.75      0.76      0.75      1061\n",
      "\n"
     ]
    }
   ],
   "source": [
    "xgmodel.fit(X_train, y_train)\n",
    "y_train_pred = xgmodel.predict(X_train)\n",
    "y_test_pred = xgmodel.predict(X_test)\n",
    "train_fpr_xgb, train_tpr_xgb, tr_thresholds_xgb = roc_curve(y_train, y_train_pred)\n",
    "test_fpr_xgb, test_tpr_xgb, te_thresholds_xgb = roc_curve(y_test, y_test_pred)\n",
    "\n",
    "print(classification_report(y_test, y_test_pred))"
   ]
  },
  {
   "attachments": {},
   "cell_type": "markdown",
   "metadata": {},
   "source": [
    "# **LightGBM**"
   ]
  },
  {
   "cell_type": "code",
   "execution_count": 62,
   "metadata": {},
   "outputs": [
    {
     "name": "stdout",
     "output_type": "stream",
     "text": [
      "[20]\ttraining's binary_logloss: 0.473061\tvalid_0's binary_logloss: 0.499924\n",
      "[40]\ttraining's binary_logloss: 0.441244\tvalid_0's binary_logloss: 0.487637\n",
      "[60]\ttraining's binary_logloss: 0.420906\tvalid_0's binary_logloss: 0.484015\n",
      "[80]\ttraining's binary_logloss: 0.403277\tvalid_0's binary_logloss: 0.485329\n",
      "[100]\ttraining's binary_logloss: 0.388142\tvalid_0's binary_logloss: 0.48737\n"
     ]
    },
    {
     "name": "stderr",
     "output_type": "stream",
     "text": [
      "c:\\Users\\maris\\VS Workspace\\doggynator\\models\\doggynatorEnv\\lib\\site-packages\\lightgbm\\sklearn.py:736: UserWarning:\n",
      "\n",
      "'verbose' argument is deprecated and will be removed in a future release of LightGBM. Pass 'log_evaluation()' callback via 'callbacks' argument instead.\n",
      "\n"
     ]
    },
    {
     "data": {
      "text/plain": [
       "<AxesSubplot: title={'center': 'Metric during training'}, xlabel='Iterations', ylabel='binary_logloss'>"
      ]
     },
     "execution_count": 62,
     "metadata": {},
     "output_type": "execute_result"
    },
    {
     "data": {
      "image/png": "[encoded data removed]",
      "text/plain": [
       "<Figure size 640x480 with 1 Axes>"
      ]
     },
     "metadata": {},
     "output_type": "display_data"
    }
   ],
   "source": [
    "model = lgb.LGBMClassifier(learning_rate=0.1,max_depth=5,random_state=42)\n",
    "model.fit(X_train,y_train,eval_set=[(X_test,y_test),(X_train,y_train)],\n",
    "          verbose=20,eval_metric='logloss')\n",
    "lgb.plot_metric(model)"
   ]
  },
  {
   "cell_type": "code",
   "execution_count": 63,
   "metadata": {},
   "outputs": [
    {
     "name": "stdout",
     "output_type": "stream",
     "text": [
      "              precision    recall  f1-score   support\n",
      "\n",
      "           0       0.78      0.89      0.83       670\n",
      "           1       0.75      0.57      0.65       391\n",
      "\n",
      "    accuracy                           0.77      1061\n",
      "   macro avg       0.77      0.73      0.74      1061\n",
      "weighted avg       0.77      0.77      0.76      1061\n",
      "\n"
     ]
    }
   ],
   "source": [
    "y_train_pred = model.predict(X_train)\n",
    "y_test_pred = model.predict(X_test)\n",
    "train_fpr, train_tpr, tr_thresholds = roc_curve(y_train, y_train_pred)\n",
    "test_fpr, test_tpr, te_thresholds = roc_curve(y_test, y_test_pred)\n",
    "print(classification_report(y_test, y_test_pred))"
   ]
  },
  {
   "attachments": {},
   "cell_type": "markdown",
   "metadata": {},
   "source": [
    "# **Random Forest**"
   ]
  },
  {
   "cell_type": "code",
   "execution_count": 51,
   "metadata": {},
   "outputs": [
    {
     "name": "stdout",
     "output_type": "stream",
     "text": [
      "              precision    recall  f1-score   support\n",
      "\n",
      "           0       0.78      0.86      0.82       670\n",
      "           1       0.72      0.59      0.65       391\n",
      "\n",
      "    accuracy                           0.76      1061\n",
      "   macro avg       0.75      0.73      0.73      1061\n",
      "weighted avg       0.76      0.76      0.76      1061\n",
      "\n"
     ]
    }
   ],
   "source": [
    "clf = RandomForestClassifier(max_depth= 17, min_samples_leaf= 3, min_samples_split= 5, n_estimators= 50)\n",
    "clf.fit(X_train,y_train)\n",
    "y_pred = clf.predict(X_test)\n",
    "print(classification_report(y_test, y_pred))"
   ]
  },
  {
   "attachments": {},
   "cell_type": "markdown",
   "metadata": {},
   "source": [
    "# **SGDClassifier**"
   ]
  },
  {
   "cell_type": "code",
   "execution_count": 45,
   "metadata": {},
   "outputs": [
    {
     "name": "stdout",
     "output_type": "stream",
     "text": [
      "              precision    recall  f1-score   support\n",
      "\n",
      "           0       0.77      0.68      0.72       670\n",
      "           1       0.54      0.64      0.59       391\n",
      "\n",
      "    accuracy                           0.67      1061\n",
      "   macro avg       0.65      0.66      0.66      1061\n",
      "weighted avg       0.68      0.67      0.67      1061\n",
      "\n"
     ]
    }
   ],
   "source": [
    "model = SGDClassifier(loss='hinge', class_weight='balanced')\n",
    "model.fit(X_train, y_train)\n",
    "# roc_auc_score(y_true, y_score) the 2nd parameter should be probability estimates of the positive class, not the predicted outputs.\n",
    "y_train_pred = model.predict(X_train)    \n",
    "y_test_pred = model.predict(X_test) \n",
    "train_fpr_sgd, train_tpr_sgd, tr_thresholds_sgd = roc_curve(y_train, y_train_pred)\n",
    "test_fpr_sgd, test_tpr_sgd, te_thresholds_sgd = roc_curve(y_test, y_test_pred)\n",
    "print(classification_report(y_test, y_test_pred))"
   ]
  },
  {
   "attachments": {},
   "cell_type": "markdown",
   "metadata": {},
   "source": [
    "# **GNB**"
   ]
  },
  {
   "attachments": {},
   "cell_type": "markdown",
   "metadata": {},
   "source": [
    "## Gaussian Naive Bayes"
   ]
  },
  {
   "cell_type": "code",
   "execution_count": 46,
   "metadata": {},
   "outputs": [
    {
     "name": "stdout",
     "output_type": "stream",
     "text": [
      "              precision    recall  f1-score   support\n",
      "\n",
      "           0       0.67      0.82      0.74       670\n",
      "           1       0.51      0.32      0.39       391\n",
      "\n",
      "    accuracy                           0.64      1061\n",
      "   macro avg       0.59      0.57      0.57      1061\n",
      "weighted avg       0.61      0.64      0.61      1061\n",
      "\n"
     ]
    }
   ],
   "source": [
    "# train a Gaussian Naive Bayes classifier on the training set\n",
    "from sklearn.naive_bayes import GaussianNB\n",
    "# instantiate the model\n",
    "gnb = GaussianNB()\n",
    "# fit the model\n",
    "gnb.fit(X_train, y_train)\n",
    "y_pred = gnb.predict(X_test)\n",
    "print(classification_report(y_test, y_pred))"
   ]
  },
  {
   "attachments": {},
   "cell_type": "markdown",
   "metadata": {},
   "source": [
    "## Categorical Naive Bayes classifier"
   ]
  },
  {
   "cell_type": "code",
   "execution_count": 47,
   "metadata": {},
   "outputs": [
    {
     "name": "stdout",
     "output_type": "stream",
     "text": [
      "              precision    recall  f1-score   support\n",
      "\n",
      "           0       0.73      0.76      0.74       670\n",
      "           1       0.55      0.52      0.54       391\n",
      "\n",
      "    accuracy                           0.67      1061\n",
      "   macro avg       0.64      0.64      0.64      1061\n",
      "weighted avg       0.67      0.67      0.67      1061\n",
      "\n"
     ]
    }
   ],
   "source": [
    "# train a Gaussian Naive Bayes classifier on the training set\n",
    "from sklearn.naive_bayes import CategoricalNB\n",
    "# instantiate the model\n",
    "gnbcat = CategoricalNB()\n",
    "# fit the model\n",
    "gnbcat.fit(X_train, y_train)\n",
    "y_pred = gnbcat.predict(X_test)\n",
    "print(classification_report(y_test, y_pred))"
   ]
  },
  {
   "attachments": {},
   "cell_type": "markdown",
   "metadata": {},
   "source": [
    "## BernoulliNB"
   ]
  },
  {
   "cell_type": "code",
   "execution_count": 48,
   "metadata": {},
   "outputs": [
    {
     "name": "stdout",
     "output_type": "stream",
     "text": [
      "              precision    recall  f1-score   support\n",
      "\n",
      "           0       0.73      0.76      0.74       670\n",
      "           1       0.55      0.52      0.54       391\n",
      "\n",
      "    accuracy                           0.67      1061\n",
      "   macro avg       0.64      0.64      0.64      1061\n",
      "weighted avg       0.67      0.67      0.67      1061\n",
      "\n"
     ]
    }
   ],
   "source": [
    "# train a Gaussian Naive Bayes classifier on the training set\n",
    "from sklearn.naive_bayes import BernoulliNB\n",
    "# instantiate the model\n",
    "gnbBer = BernoulliNB()\n",
    "# fit the model\n",
    "gnbBer.fit(X_train, y_train)\n",
    "y_pred = gnbBer.predict(X_test)\n",
    "print(classification_report(y_test, y_pred))"
   ]
  },
  {
   "attachments": {},
   "cell_type": "markdown",
   "metadata": {},
   "source": [
    "## Multinomial NB"
   ]
  },
  {
   "cell_type": "code",
   "execution_count": 49,
   "metadata": {},
   "outputs": [
    {
     "name": "stdout",
     "output_type": "stream",
     "text": [
      "              precision    recall  f1-score   support\n",
      "\n",
      "           0       0.70      0.81      0.75       670\n",
      "           1       0.56      0.42      0.48       391\n",
      "\n",
      "    accuracy                           0.66      1061\n",
      "   macro avg       0.63      0.61      0.62      1061\n",
      "weighted avg       0.65      0.66      0.65      1061\n",
      "\n"
     ]
    }
   ],
   "source": [
    "# train a Gaussian Naive Bayes classifier on the training set\n",
    "from sklearn.naive_bayes import MultinomialNB\n",
    "# instantiate the model\n",
    "gnbM = MultinomialNB()\n",
    "# fit the model\n",
    "gnbM.fit(X_train, y_train)\n",
    "y_pred = gnbM.predict(X_test)\n",
    "print(classification_report(y_test, y_pred))"
   ]
  }
 ],
 "metadata": {
  "kernelspec": {
   "display_name": "doggynatorEnv",
   "language": "python",
   "name": "python3"
  },
  "language_info": {
   "codemirror_mode": {
    "name": "ipython",
    "version": 3
   },
   "file_extension": ".py",
   "mimetype": "text/x-python",
   "name": "python",
   "nbconvert_exporter": "python",
   "pygments_lexer": "ipython3",
   "version": "3.10.7"
  },
  "orig_nbformat": 4,
  "vscode": {
   "interpreter": {
    "hash": "3d2bcc9d76a133d6f7cddb5f37e525b12db9de37b49b0d424e5fd008e75a558a"
   }
  }
 },
 "nbformat": 4,
 "nbformat_minor": 2
}
